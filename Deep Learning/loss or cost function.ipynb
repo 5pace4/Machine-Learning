{
 "cells": [
  {
   "cell_type": "code",
   "execution_count": 1,
   "id": "d85595cb",
   "metadata": {},
   "outputs": [
    {
     "data": {
      "text/plain": [
       "0.5"
      ]
     },
     "execution_count": 1,
     "metadata": {},
     "output_type": "execute_result"
    }
   ],
   "source": [
    "# mean absolute error(MAE) (without using numpy)\n",
    "\n",
    "def mae(y, y_pred) :\n",
    "    tot_abs_error = 0\n",
    "    for i, j in zip(y, y_pred):\n",
    "        tot_abs_error += abs(i- j)\n",
    "    \n",
    "    return tot_abs_error / len(y)\n",
    "        \n",
    "        \n",
    "        \n",
    "y = [1, 0, 1, 1, 1, 0]\n",
    "y_pred = [1, 1, 0, 1, 0, 0]\n",
    "\n",
    "mae(y, y_pred)"
   ]
  },
  {
   "cell_type": "code",
   "execution_count": 2,
   "id": "1c970646",
   "metadata": {},
   "outputs": [
    {
     "data": {
      "text/plain": [
       "0.5"
      ]
     },
     "execution_count": 2,
     "metadata": {},
     "output_type": "execute_result"
    }
   ],
   "source": [
    "# mean absolute error(MAE) (using numpy)\n",
    "\n",
    "import numpy as np\n",
    "\n",
    "def mae(y, y_pred):\n",
    "    return np.mean(np.abs(np.array(y) - np.array(y_pred)))\n",
    "\n",
    "y = [1, 0, 1, 1, 1, 0]\n",
    "y_pred = [1, 1, 0, 1, 0, 0]\n",
    "\n",
    "mae(y, y_pred)"
   ]
  },
  {
   "cell_type": "code",
   "execution_count": 3,
   "id": "8f3ab947",
   "metadata": {},
   "outputs": [
    {
     "data": {
      "text/plain": [
       "3.1666666666666665"
      ]
     },
     "execution_count": 3,
     "metadata": {},
     "output_type": "execute_result"
    }
   ],
   "source": [
    "# mean squared error(MSE) without using numpy\n",
    "\n",
    "def mse(y, y_pred):\n",
    "    tot_error = 0\n",
    "    for i, j in zip(y, y_pred):\n",
    "        tot_error += (i-j) * (i-j)\n",
    "        \n",
    "    return tot_error / len(y)\n",
    "\n",
    "y = [1, 0, 1, 5, 1, 0]\n",
    "y_pred = [1, 1, 0, 1, 0, 0]\n",
    "\n",
    "mse(y, y_pred)\n"
   ]
  },
  {
   "cell_type": "code",
   "execution_count": 4,
   "id": "02033425",
   "metadata": {},
   "outputs": [
    {
     "data": {
      "text/plain": [
       "3.1666666666666665"
      ]
     },
     "execution_count": 4,
     "metadata": {},
     "output_type": "execute_result"
    }
   ],
   "source": [
    "# mean squared error(MSE) using numpy\n",
    "\n",
    "import numpy as np\n",
    "def mse(y, y_pred):\n",
    "    return np.mean(np.square(np.array(y) - np.array(y_pred)))\n",
    "\n",
    "y = [1, 0, 1, 5, 1, 0]\n",
    "y_pred = [1, 1, 0, 1, 0, 0]\n",
    "\n",
    "mse(y, y_pred)\n"
   ]
  },
  {
   "cell_type": "code",
   "execution_count": 9,
   "id": "b51a9b9a",
   "metadata": {},
   "outputs": [
    {
     "data": {
      "text/plain": [
       "-4.605181246969329"
      ]
     },
     "execution_count": 9,
     "metadata": {},
     "output_type": "execute_result"
    }
   ],
   "source": [
    "# log loss or binray_crosentrophy without using numpy\n",
    "\n",
    "import math\n",
    "def binary_crossentropy(y, y_pred):\n",
    "    something = 1e-12\n",
    "    y_pred = [i - something if i > 0 else i + something for i in y_pred]\n",
    "    tot_error = 0\n",
    "    for i, j in zip(y, y_pred):\n",
    "        tot_error += i * math.log(j) + (1 -i)*math.log(1-j)\n",
    "        \n",
    "    return -tot_error / len(y)\n",
    "        \n",
    "y = [1, 0, 1, 5, 1, 0]\n",
    "y_pred = [1, 1, 0, 1, 0, 0]\n",
    "\n",
    "binary_crossentropy(y, y_pred)   \n"
   ]
  },
  {
   "cell_type": "code",
   "execution_count": 33,
   "id": "46b20ed7",
   "metadata": {},
   "outputs": [
    {
     "data": {
      "text/plain": [
       "-4.605181246969329"
      ]
     },
     "execution_count": 33,
     "metadata": {},
     "output_type": "execute_result"
    }
   ],
   "source": [
    "# log loss or binray crosentrophy using numpy \n",
    "\n",
    "import numpy as np\n",
    "import math \n",
    "\n",
    "def binary_crossentrophy(y, y_pred):\n",
    "    something = 1e-12\n",
    "    y_pred = [i-something if i > 0 else i + something for i in y_pred]\n",
    "    y_pred = np.array(y_pred)\n",
    "    return -np.mean(y * np.log(y_pred) + (1-y) * np.log(1-y_pred))\n",
    "    \n",
    "y = np.array([1, 0, 1, 5, 1, 0])\n",
    "y_pred = np.array([1, 1, 0, 1, 0, 0])\n",
    "binary_crossentrophy(y, y_pred)"
   ]
  },
  {
   "cell_type": "code",
   "execution_count": null,
   "id": "3971606b",
   "metadata": {},
   "outputs": [],
   "source": []
  }
 ],
 "metadata": {
  "kernelspec": {
   "display_name": "Python 3 (ipykernel)",
   "language": "python",
   "name": "python3"
  },
  "language_info": {
   "codemirror_mode": {
    "name": "ipython",
    "version": 3
   },
   "file_extension": ".py",
   "mimetype": "text/x-python",
   "name": "python",
   "nbconvert_exporter": "python",
   "pygments_lexer": "ipython3",
   "version": "3.11.5"
  }
 },
 "nbformat": 4,
 "nbformat_minor": 5
}
