{
 "cells": [
  {
   "cell_type": "code",
   "execution_count": 15,
   "id": "11da8a38",
   "metadata": {},
   "outputs": [
    {
     "data": {
      "text/plain": [
       "0.5"
      ]
     },
     "execution_count": 15,
     "metadata": {},
     "output_type": "execute_result"
    }
   ],
   "source": [
    "# sigmoid activation function\n",
    "\n",
    "import math\n",
    "def sigmoid(z) :\n",
    "    return 1/(1+math.exp(-z))\n",
    "\n",
    "sigmoid(0)"
   ]
  },
  {
   "cell_type": "code",
   "execution_count": 16,
   "id": "044f9ff2",
   "metadata": {},
   "outputs": [
    {
     "data": {
      "text/plain": [
       "0.0"
      ]
     },
     "execution_count": 16,
     "metadata": {},
     "output_type": "execute_result"
    }
   ],
   "source": [
    "# tanh activation \n",
    "\n",
    "import math\n",
    "def tanh(z) :\n",
    "    return (math.exp(z) - math.exp(-z)) / (math.exp(z) + math.exp(-z))\n",
    "\n",
    "tanh(0)"
   ]
  },
  {
   "cell_type": "code",
   "execution_count": 17,
   "id": "a3a270d2",
   "metadata": {},
   "outputs": [
    {
     "data": {
      "text/plain": [
       "0.5"
      ]
     },
     "execution_count": 17,
     "metadata": {},
     "output_type": "execute_result"
    }
   ],
   "source": [
    "# ReLu activation \n",
    "def relu(x) :\n",
    "    return max(0, x)\n",
    "relu(.5)"
   ]
  },
  {
   "cell_type": "code",
   "execution_count": 18,
   "id": "16ee12a4",
   "metadata": {},
   "outputs": [
    {
     "data": {
      "text/plain": [
       "-0.05"
      ]
     },
     "execution_count": 18,
     "metadata": {},
     "output_type": "execute_result"
    }
   ],
   "source": [
    "# leaky_ReLu activation function\n",
    "\n",
    "def leaky_relu(x):\n",
    "    return max(0.1*x, x)\n",
    "\n",
    "leaky_relu(-.5)"
   ]
  },
  {
   "cell_type": "code",
   "execution_count": null,
   "id": "b43f78c9",
   "metadata": {},
   "outputs": [],
   "source": []
  }
 ],
 "metadata": {
  "kernelspec": {
   "display_name": "Python 3 (ipykernel)",
   "language": "python",
   "name": "python3"
  },
  "language_info": {
   "codemirror_mode": {
    "name": "ipython",
    "version": 3
   },
   "file_extension": ".py",
   "mimetype": "text/x-python",
   "name": "python",
   "nbconvert_exporter": "python",
   "pygments_lexer": "ipython3",
   "version": "3.11.5"
  }
 },
 "nbformat": 4,
 "nbformat_minor": 5
}
